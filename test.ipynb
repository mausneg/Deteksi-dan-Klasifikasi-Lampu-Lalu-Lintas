{
 "cells": [
  {
   "cell_type": "code",
   "execution_count": 1,
   "id": "55b6470f",
   "metadata": {},
   "outputs": [],
   "source": [
    "import cv2\n",
    "import numpy as np\n"
   ]
  },
  {
   "cell_type": "code",
   "execution_count": 2,
   "id": "ed1ea79a",
   "metadata": {},
   "outputs": [],
   "source": [
    "# Fungsi untuk mendeteksi dan mengklasifikasikan warna lampu lalu lintas\n",
    "def detect_traffic_lights(image):\n",
    "    # Mengonversi citra ke dalam ruang warna HSV\n",
    "    hsv_image = cv2.cvtColor(image, cv2.COLOR_BGR2HSV)\n",
    "\n",
    "    # Definisikan rentang warna untuk setiap lampu lalu lintas dalam HSV\n",
    "    color_ranges = {\n",
    "        \"Merah\": ([0, 120, 70], [10, 255, 255]),\n",
    "        \"Kuning\": ([20, 100, 100], [30, 255, 255]),\n",
    "        \"Hijau\": ([50, 100, 100], [70, 255, 255])\n",
    "    }\n",
    "\n",
    "    detected_colors = []\n",
    "\n",
    "    # Deteksi warna lampu lalu lintas\n",
    "    for color, (lower, upper) in color_ranges.items():\n",
    "        color_mask = cv2.inRange(hsv_image, np.array(lower), np.array(upper))\n",
    "        color_count = cv2.countNonZero(color_mask)\n",
    "\n",
    "        # Jika warna terdeteksi, tambahkan ke daftar warna yang terdeteksi\n",
    "        if color_count > 0:\n",
    "            detected_colors.append(color)\n",
    "            contours, _ = cv2.findContours(color_mask, cv2.RETR_EXTERNAL, cv2.CHAIN_APPROX_SIMPLE)\n",
    "            for contour in contours:\n",
    "                x, y, w, h = cv2.boundingRect(contour)\n",
    "                cv2.rectangle(image, (x, y), (x + w, y + h), (0, 255, 0), 2)\n",
    "            cv2.putText(image, color, (x, y - 10), cv2.FONT_HERSHEY_SIMPLEX, 0.9, (0, 255, 0), 2)\n",
    "\n",
    "    return detected_colors"
   ]
  },
  {
   "cell_type": "code",
   "execution_count": 3,
   "id": "5cc07b64",
   "metadata": {},
   "outputs": [],
   "source": [
    "# Baca citra lalu lintas\n",
    "image = cv2.imread(\"lampulalulintas.jpg\")\n"
   ]
  },
  {
   "cell_type": "code",
   "execution_count": 4,
   "id": "a459ca06",
   "metadata": {},
   "outputs": [],
   "source": [
    "# Deteksi dan klasifikasi warna lampu lalu lintas\n",
    "detected_colors = detect_traffic_lights(image)\n"
   ]
  },
  {
   "cell_type": "code",
   "execution_count": null,
   "id": "9e59a7df",
   "metadata": {},
   "outputs": [],
   "source": [
    "# Tampilkan hasil\n",
    "cv2.imshow(\"Hasil Deteksi Lampu Lalu Lintas\", image)\n",
    "cv2.waitKey(0)\n",
    "cv2.destroyAllWindows()\n",
    "\n",
    "print(\"Warna Lampu Lalu Lintas:\", detected_colors)"
   ]
  },
  {
   "cell_type": "code",
   "execution_count": null,
   "id": "c289271b",
   "metadata": {},
   "outputs": [],
   "source": []
  },
  {
   "cell_type": "code",
   "execution_count": null,
   "id": "40a5ae4c",
   "metadata": {},
   "outputs": [],
   "source": []
  }
 ],
 "metadata": {
  "kernelspec": {
   "display_name": "Python 3 (ipykernel)",
   "language": "python",
   "name": "python3"
  },
  "language_info": {
   "codemirror_mode": {
    "name": "ipython",
    "version": 3
   },
   "file_extension": ".py",
   "mimetype": "text/x-python",
   "name": "python",
   "nbconvert_exporter": "python",
   "pygments_lexer": "ipython3",
   "version": "3.10.9"
  }
 },
 "nbformat": 4,
 "nbformat_minor": 5
}
